{
 "cells": [
  {
   "cell_type": "markdown",
   "metadata": {},
   "source": [
    "![](https://raw.githubusercontent.com/dssg/aequitas/master/src/aequitas_cli/utils/img/aequitas_report_header.png)\n"
   ]
  },
  {
   "cell_type": "markdown",
   "metadata": {},
   "source": [
    "An open source bias audit toolkit for machine learning developers, analysts, and  policymakers to audit machine learning models for discrimination and bias, and make informed and equitable decisions around developing and deploying predictive risk-assessment tools.\n",
    "\n",
    "[Learn more about the project](http://dsapp.uchicago.edu/aequitas/)\n",
    "\n",
    "[Try it now](http://aequitas.dssg.io)\n",
    "\n",
    "aequitas is compatible with: __Python 3.6__."
   ]
  },
  {
   "cell_type": "markdown",
   "metadata": {},
   "source": [
    "# 30 seconds to *aequitas-report*: \n",
    "\n",
    "With aequitas-report uncovering bias is as simple as running a single command on a csv.\n",
    "\n",
    "\n",
    "## Input machine learning predictions\n",
    "\n",
    "After [installing on your computer](./installation.html)\n",
    "\n",
    "Run aequitas on COMPAS data: \n",
    "```\n",
    "aequitas-audit <input_file> <config>\n",
    "```\n",
    "\n",
    "The input data at least has:\n",
    "\n",
    "- `score`\n",
    "- `label_value`\n",
    "- at least one group. e.g. `race`, `sex` and `age_cat`.\n",
    "\n",
    "[Getting started with input data](./input_data.html) \n",
    "\n",
    "Additionally, disparity is always defined in relation to a base group. By default, we use majority as the base group. [Defining a base group](./config.html)\n",
    "\n",
    "\n"
   ]
  },
  {
   "cell_type": "markdown",
   "metadata": {},
   "source": [
    "## Get out measures of bias that you can tailor to your problem\n",
    "\n",
    "### Bias report \n",
    "\n",
    "\n",
    "### Command line output: baseline measures\n",
    "\n",
    "\n",
    "### Commandline output: Bias and Disparity Metrics\n",
    "\n",
    "The bias metrics table includes measures of bias and disparity at three levels: \n",
    "\n",
    "\n",
    "[understanding output](./output_data.html)"
   ]
  }
 ],
 "metadata": {
  "kernelspec": {
   "display_name": "Python 3",
   "language": "python",
   "name": "python3"
  },
  "language_info": {
   "codemirror_mode": {
    "name": "ipython",
    "version": 3
   },
   "file_extension": ".py",
   "mimetype": "text/x-python",
   "name": "python",
   "nbconvert_exporter": "python",
   "pygments_lexer": "ipython3",
   "version": "3.6.4"
  }
 },
 "nbformat": 4,
 "nbformat_minor": 2
}
